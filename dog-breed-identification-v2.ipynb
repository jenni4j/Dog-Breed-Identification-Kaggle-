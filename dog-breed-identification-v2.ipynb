{
 "cells": [
  {
   "cell_type": "markdown",
   "id": "33ab8f66",
   "metadata": {
    "papermill": {
     "duration": 0.005403,
     "end_time": "2023-11-28T00:24:31.920885",
     "exception": false,
     "start_time": "2023-11-28T00:24:31.915482",
     "status": "completed"
    },
    "tags": []
   },
   "source": [
    "### Import Libraries"
   ]
  },
  {
   "cell_type": "code",
   "execution_count": 1,
   "id": "8e87501a",
   "metadata": {
    "_cell_guid": "b1076dfc-b9ad-4769-8c92-a6c4dae69d19",
    "_uuid": "8f2839f25d086af736a60e9eeb907d3b93b6e0e5",
    "execution": {
     "iopub.execute_input": "2023-11-28T00:24:31.932605Z",
     "iopub.status.busy": "2023-11-28T00:24:31.931998Z",
     "iopub.status.idle": "2023-11-28T00:24:32.892499Z",
     "shell.execute_reply": "2023-11-28T00:24:32.891551Z"
    },
    "papermill": {
     "duration": 0.968871,
     "end_time": "2023-11-28T00:24:32.894901",
     "exception": false,
     "start_time": "2023-11-28T00:24:31.926030",
     "status": "completed"
    },
    "tags": []
   },
   "outputs": [],
   "source": [
    "# Used to change filepaths\n",
    "from pathlib import Path\n",
    "\n",
    "# We set up matplotlib, pandas, and the display function\n",
    "%matplotlib inline\n",
    "import matplotlib.pyplot as plt\n",
    "from IPython.display import display\n",
    "import pandas as pd\n",
    "import numpy as np\n",
    "from PIL import Image\n",
    "import cv2\n",
    "import os\n",
    "from tqdm.notebook import tqdm"
   ]
  },
  {
   "cell_type": "code",
   "execution_count": 2,
   "id": "7b4338bd",
   "metadata": {
    "execution": {
     "iopub.execute_input": "2023-11-28T00:24:32.906368Z",
     "iopub.status.busy": "2023-11-28T00:24:32.905968Z",
     "iopub.status.idle": "2023-11-28T00:24:44.062227Z",
     "shell.execute_reply": "2023-11-28T00:24:44.061401Z"
    },
    "papermill": {
     "duration": 11.164364,
     "end_time": "2023-11-28T00:24:44.064507",
     "exception": false,
     "start_time": "2023-11-28T00:24:32.900143",
     "status": "completed"
    },
    "tags": []
   },
   "outputs": [
    {
     "name": "stderr",
     "output_type": "stream",
     "text": [
      "/opt/conda/lib/python3.10/site-packages/scipy/__init__.py:146: UserWarning: A NumPy version >=1.16.5 and <1.23.0 is required for this version of SciPy (detected version 1.24.3\n",
      "  warnings.warn(f\"A NumPy version >={np_minversion} and <{np_maxversion}\"\n"
     ]
    }
   ],
   "source": [
    "import keras\n",
    "from keras.preprocessing.image import ImageDataGenerator\n",
    "from keras.models import Model\n",
    "from keras.layers import BatchNormalization, Dense, GlobalAveragePooling2D, Lambda, Dropout, InputLayer, Input\n",
    "from keras.utils import to_categorical\n",
    "from tensorflow.keras.preprocessing.image import load_img"
   ]
  },
  {
   "cell_type": "code",
   "execution_count": 3,
   "id": "bbce087c",
   "metadata": {
    "execution": {
     "iopub.execute_input": "2023-11-28T00:24:44.076627Z",
     "iopub.status.busy": "2023-11-28T00:24:44.075868Z",
     "iopub.status.idle": "2023-11-28T00:24:44.080496Z",
     "shell.execute_reply": "2023-11-28T00:24:44.079644Z"
    },
    "papermill": {
     "duration": 0.012525,
     "end_time": "2023-11-28T00:24:44.082363",
     "exception": false,
     "start_time": "2023-11-28T00:24:44.069838",
     "status": "completed"
    },
    "tags": []
   },
   "outputs": [],
   "source": [
    "data_dir = \"/kaggle/input/dsgt-dog-breed-identification/\"\n",
    "train_dir = data_dir + '/train/'\n",
    "test_dir = data_dir + 'test/'"
   ]
  },
  {
   "cell_type": "code",
   "execution_count": 4,
   "id": "a7d9937d",
   "metadata": {
    "execution": {
     "iopub.execute_input": "2023-11-28T00:24:44.093785Z",
     "iopub.status.busy": "2023-11-28T00:24:44.093511Z",
     "iopub.status.idle": "2023-11-28T00:24:44.754094Z",
     "shell.execute_reply": "2023-11-28T00:24:44.753228Z"
    },
    "papermill": {
     "duration": 0.668693,
     "end_time": "2023-11-28T00:24:44.756128",
     "exception": false,
     "start_time": "2023-11-28T00:24:44.087435",
     "status": "completed"
    },
    "tags": []
   },
   "outputs": [
    {
     "data": {
      "text/html": [
       "<div>\n",
       "<style scoped>\n",
       "    .dataframe tbody tr th:only-of-type {\n",
       "        vertical-align: middle;\n",
       "    }\n",
       "\n",
       "    .dataframe tbody tr th {\n",
       "        vertical-align: top;\n",
       "    }\n",
       "\n",
       "    .dataframe thead th {\n",
       "        text-align: right;\n",
       "    }\n",
       "</style>\n",
       "<table border=\"1\" class=\"dataframe\">\n",
       "  <thead>\n",
       "    <tr style=\"text-align: right;\">\n",
       "      <th></th>\n",
       "      <th>id</th>\n",
       "      <th>breed</th>\n",
       "    </tr>\n",
       "  </thead>\n",
       "  <tbody>\n",
       "    <tr>\n",
       "      <th>0</th>\n",
       "      <td>000bec180eb18c7604dcecc8fe0dba07</td>\n",
       "      <td>boston_bull</td>\n",
       "    </tr>\n",
       "    <tr>\n",
       "      <th>1</th>\n",
       "      <td>001513dfcb2ffafc82cccf4d8bbaba97</td>\n",
       "      <td>dingo</td>\n",
       "    </tr>\n",
       "    <tr>\n",
       "      <th>2</th>\n",
       "      <td>001cdf01b096e06d78e9e5112d419397</td>\n",
       "      <td>pekinese</td>\n",
       "    </tr>\n",
       "    <tr>\n",
       "      <th>3</th>\n",
       "      <td>00214f311d5d2247d5dfe4fe24b2303d</td>\n",
       "      <td>bluetick</td>\n",
       "    </tr>\n",
       "    <tr>\n",
       "      <th>4</th>\n",
       "      <td>0021f9ceb3235effd7fcde7f7538ed62</td>\n",
       "      <td>golden_retriever</td>\n",
       "    </tr>\n",
       "  </tbody>\n",
       "</table>\n",
       "</div>"
      ],
      "text/plain": [
       "                                 id             breed\n",
       "0  000bec180eb18c7604dcecc8fe0dba07       boston_bull\n",
       "1  001513dfcb2ffafc82cccf4d8bbaba97             dingo\n",
       "2  001cdf01b096e06d78e9e5112d419397          pekinese\n",
       "3  00214f311d5d2247d5dfe4fe24b2303d          bluetick\n",
       "4  0021f9ceb3235effd7fcde7f7538ed62  golden_retriever"
      ]
     },
     "execution_count": 4,
     "metadata": {},
     "output_type": "execute_result"
    }
   ],
   "source": [
    "labels_df = pd.read_csv(data_dir + 'labels.csv')\n",
    "sample_df = pd.read_csv(data_dir + 'sample_submission.csv')\n",
    "labels_df.head()"
   ]
  },
  {
   "cell_type": "code",
   "execution_count": 5,
   "id": "9aaf331f",
   "metadata": {
    "execution": {
     "iopub.execute_input": "2023-11-28T00:24:44.768791Z",
     "iopub.status.busy": "2023-11-28T00:24:44.768506Z",
     "iopub.status.idle": "2023-11-28T00:24:44.794469Z",
     "shell.execute_reply": "2023-11-28T00:24:44.793622Z"
    },
    "papermill": {
     "duration": 0.034145,
     "end_time": "2023-11-28T00:24:44.796231",
     "exception": false,
     "start_time": "2023-11-28T00:24:44.762086",
     "status": "completed"
    },
    "tags": []
   },
   "outputs": [
    {
     "data": {
      "text/html": [
       "<div>\n",
       "<style scoped>\n",
       "    .dataframe tbody tr th:only-of-type {\n",
       "        vertical-align: middle;\n",
       "    }\n",
       "\n",
       "    .dataframe tbody tr th {\n",
       "        vertical-align: top;\n",
       "    }\n",
       "\n",
       "    .dataframe thead th {\n",
       "        text-align: right;\n",
       "    }\n",
       "</style>\n",
       "<table border=\"1\" class=\"dataframe\">\n",
       "  <thead>\n",
       "    <tr style=\"text-align: right;\">\n",
       "      <th></th>\n",
       "      <th>id</th>\n",
       "      <th>affenpinscher</th>\n",
       "      <th>afghan_hound</th>\n",
       "      <th>african_hunting_dog</th>\n",
       "      <th>airedale</th>\n",
       "      <th>american_staffordshire_terrier</th>\n",
       "      <th>appenzeller</th>\n",
       "      <th>australian_terrier</th>\n",
       "      <th>basenji</th>\n",
       "      <th>basset</th>\n",
       "      <th>...</th>\n",
       "      <th>toy_poodle</th>\n",
       "      <th>toy_terrier</th>\n",
       "      <th>vizsla</th>\n",
       "      <th>walker_hound</th>\n",
       "      <th>weimaraner</th>\n",
       "      <th>welsh_springer_spaniel</th>\n",
       "      <th>west_highland_white_terrier</th>\n",
       "      <th>whippet</th>\n",
       "      <th>wire-haired_fox_terrier</th>\n",
       "      <th>yorkshire_terrier</th>\n",
       "    </tr>\n",
       "  </thead>\n",
       "  <tbody>\n",
       "    <tr>\n",
       "      <th>0</th>\n",
       "      <td>000621fb3cbb32d8935728e48679680e</td>\n",
       "      <td>0.008333</td>\n",
       "      <td>0.008333</td>\n",
       "      <td>0.008333</td>\n",
       "      <td>0.008333</td>\n",
       "      <td>0.008333</td>\n",
       "      <td>0.008333</td>\n",
       "      <td>0.008333</td>\n",
       "      <td>0.008333</td>\n",
       "      <td>0.008333</td>\n",
       "      <td>...</td>\n",
       "      <td>0.008333</td>\n",
       "      <td>0.008333</td>\n",
       "      <td>0.008333</td>\n",
       "      <td>0.008333</td>\n",
       "      <td>0.008333</td>\n",
       "      <td>0.008333</td>\n",
       "      <td>0.008333</td>\n",
       "      <td>0.008333</td>\n",
       "      <td>0.008333</td>\n",
       "      <td>0.008333</td>\n",
       "    </tr>\n",
       "    <tr>\n",
       "      <th>1</th>\n",
       "      <td>00102ee9d8eb90812350685311fe5890</td>\n",
       "      <td>0.008333</td>\n",
       "      <td>0.008333</td>\n",
       "      <td>0.008333</td>\n",
       "      <td>0.008333</td>\n",
       "      <td>0.008333</td>\n",
       "      <td>0.008333</td>\n",
       "      <td>0.008333</td>\n",
       "      <td>0.008333</td>\n",
       "      <td>0.008333</td>\n",
       "      <td>...</td>\n",
       "      <td>0.008333</td>\n",
       "      <td>0.008333</td>\n",
       "      <td>0.008333</td>\n",
       "      <td>0.008333</td>\n",
       "      <td>0.008333</td>\n",
       "      <td>0.008333</td>\n",
       "      <td>0.008333</td>\n",
       "      <td>0.008333</td>\n",
       "      <td>0.008333</td>\n",
       "      <td>0.008333</td>\n",
       "    </tr>\n",
       "    <tr>\n",
       "      <th>2</th>\n",
       "      <td>0012a730dfa437f5f3613fb75efcd4ce</td>\n",
       "      <td>0.008333</td>\n",
       "      <td>0.008333</td>\n",
       "      <td>0.008333</td>\n",
       "      <td>0.008333</td>\n",
       "      <td>0.008333</td>\n",
       "      <td>0.008333</td>\n",
       "      <td>0.008333</td>\n",
       "      <td>0.008333</td>\n",
       "      <td>0.008333</td>\n",
       "      <td>...</td>\n",
       "      <td>0.008333</td>\n",
       "      <td>0.008333</td>\n",
       "      <td>0.008333</td>\n",
       "      <td>0.008333</td>\n",
       "      <td>0.008333</td>\n",
       "      <td>0.008333</td>\n",
       "      <td>0.008333</td>\n",
       "      <td>0.008333</td>\n",
       "      <td>0.008333</td>\n",
       "      <td>0.008333</td>\n",
       "    </tr>\n",
       "    <tr>\n",
       "      <th>3</th>\n",
       "      <td>001510bc8570bbeee98c8d80c8a95ec1</td>\n",
       "      <td>0.008333</td>\n",
       "      <td>0.008333</td>\n",
       "      <td>0.008333</td>\n",
       "      <td>0.008333</td>\n",
       "      <td>0.008333</td>\n",
       "      <td>0.008333</td>\n",
       "      <td>0.008333</td>\n",
       "      <td>0.008333</td>\n",
       "      <td>0.008333</td>\n",
       "      <td>...</td>\n",
       "      <td>0.008333</td>\n",
       "      <td>0.008333</td>\n",
       "      <td>0.008333</td>\n",
       "      <td>0.008333</td>\n",
       "      <td>0.008333</td>\n",
       "      <td>0.008333</td>\n",
       "      <td>0.008333</td>\n",
       "      <td>0.008333</td>\n",
       "      <td>0.008333</td>\n",
       "      <td>0.008333</td>\n",
       "    </tr>\n",
       "    <tr>\n",
       "      <th>4</th>\n",
       "      <td>001a5f3114548acdefa3d4da05474c2e</td>\n",
       "      <td>0.008333</td>\n",
       "      <td>0.008333</td>\n",
       "      <td>0.008333</td>\n",
       "      <td>0.008333</td>\n",
       "      <td>0.008333</td>\n",
       "      <td>0.008333</td>\n",
       "      <td>0.008333</td>\n",
       "      <td>0.008333</td>\n",
       "      <td>0.008333</td>\n",
       "      <td>...</td>\n",
       "      <td>0.008333</td>\n",
       "      <td>0.008333</td>\n",
       "      <td>0.008333</td>\n",
       "      <td>0.008333</td>\n",
       "      <td>0.008333</td>\n",
       "      <td>0.008333</td>\n",
       "      <td>0.008333</td>\n",
       "      <td>0.008333</td>\n",
       "      <td>0.008333</td>\n",
       "      <td>0.008333</td>\n",
       "    </tr>\n",
       "  </tbody>\n",
       "</table>\n",
       "<p>5 rows × 121 columns</p>\n",
       "</div>"
      ],
      "text/plain": [
       "                                 id  affenpinscher  afghan_hound  \\\n",
       "0  000621fb3cbb32d8935728e48679680e       0.008333      0.008333   \n",
       "1  00102ee9d8eb90812350685311fe5890       0.008333      0.008333   \n",
       "2  0012a730dfa437f5f3613fb75efcd4ce       0.008333      0.008333   \n",
       "3  001510bc8570bbeee98c8d80c8a95ec1       0.008333      0.008333   \n",
       "4  001a5f3114548acdefa3d4da05474c2e       0.008333      0.008333   \n",
       "\n",
       "   african_hunting_dog  airedale  american_staffordshire_terrier  appenzeller  \\\n",
       "0             0.008333  0.008333                        0.008333     0.008333   \n",
       "1             0.008333  0.008333                        0.008333     0.008333   \n",
       "2             0.008333  0.008333                        0.008333     0.008333   \n",
       "3             0.008333  0.008333                        0.008333     0.008333   \n",
       "4             0.008333  0.008333                        0.008333     0.008333   \n",
       "\n",
       "   australian_terrier   basenji    basset  ...  toy_poodle  toy_terrier  \\\n",
       "0            0.008333  0.008333  0.008333  ...    0.008333     0.008333   \n",
       "1            0.008333  0.008333  0.008333  ...    0.008333     0.008333   \n",
       "2            0.008333  0.008333  0.008333  ...    0.008333     0.008333   \n",
       "3            0.008333  0.008333  0.008333  ...    0.008333     0.008333   \n",
       "4            0.008333  0.008333  0.008333  ...    0.008333     0.008333   \n",
       "\n",
       "     vizsla  walker_hound  weimaraner  welsh_springer_spaniel  \\\n",
       "0  0.008333      0.008333    0.008333                0.008333   \n",
       "1  0.008333      0.008333    0.008333                0.008333   \n",
       "2  0.008333      0.008333    0.008333                0.008333   \n",
       "3  0.008333      0.008333    0.008333                0.008333   \n",
       "4  0.008333      0.008333    0.008333                0.008333   \n",
       "\n",
       "   west_highland_white_terrier   whippet  wire-haired_fox_terrier  \\\n",
       "0                     0.008333  0.008333                 0.008333   \n",
       "1                     0.008333  0.008333                 0.008333   \n",
       "2                     0.008333  0.008333                 0.008333   \n",
       "3                     0.008333  0.008333                 0.008333   \n",
       "4                     0.008333  0.008333                 0.008333   \n",
       "\n",
       "   yorkshire_terrier  \n",
       "0           0.008333  \n",
       "1           0.008333  \n",
       "2           0.008333  \n",
       "3           0.008333  \n",
       "4           0.008333  \n",
       "\n",
       "[5 rows x 121 columns]"
      ]
     },
     "execution_count": 5,
     "metadata": {},
     "output_type": "execute_result"
    }
   ],
   "source": [
    "sample_df.head()"
   ]
  },
  {
   "cell_type": "code",
   "execution_count": 6,
   "id": "d2e0e7f6",
   "metadata": {
    "execution": {
     "iopub.execute_input": "2023-11-28T00:24:44.810009Z",
     "iopub.status.busy": "2023-11-28T00:24:44.809741Z",
     "iopub.status.idle": "2023-11-28T00:24:44.818331Z",
     "shell.execute_reply": "2023-11-28T00:24:44.817180Z"
    },
    "papermill": {
     "duration": 0.017099,
     "end_time": "2023-11-28T00:24:44.820167",
     "exception": false,
     "start_time": "2023-11-28T00:24:44.803068",
     "status": "completed"
    },
    "tags": []
   },
   "outputs": [
    {
     "name": "stdout",
     "output_type": "stream",
     "text": [
      "120\n"
     ]
    }
   ],
   "source": [
    "dog_breeds = sorted(labels_df['breed'].unique())\n",
    "n_breeds = len(dog_breeds)\n",
    "print(n_breeds)"
   ]
  },
  {
   "cell_type": "code",
   "execution_count": 7,
   "id": "0ca7a0c4",
   "metadata": {
    "execution": {
     "iopub.execute_input": "2023-11-28T00:24:44.832467Z",
     "iopub.status.busy": "2023-11-28T00:24:44.832194Z",
     "iopub.status.idle": "2023-11-28T00:24:44.836173Z",
     "shell.execute_reply": "2023-11-28T00:24:44.835361Z"
    },
    "papermill": {
     "duration": 0.012756,
     "end_time": "2023-11-28T00:24:44.838567",
     "exception": false,
     "start_time": "2023-11-28T00:24:44.825811",
     "status": "completed"
    },
    "tags": []
   },
   "outputs": [],
   "source": [
    "breed_to_num = dict(zip(dog_breeds, range(n_breeds)))"
   ]
  },
  {
   "cell_type": "code",
   "execution_count": 8,
   "id": "5c0392cb",
   "metadata": {
    "execution": {
     "iopub.execute_input": "2023-11-28T00:24:44.850939Z",
     "iopub.status.busy": "2023-11-28T00:24:44.850672Z",
     "iopub.status.idle": "2023-11-28T00:26:43.907943Z",
     "shell.execute_reply": "2023-11-28T00:26:43.906699Z"
    },
    "papermill": {
     "duration": 119.071971,
     "end_time": "2023-11-28T00:26:43.916196",
     "exception": false,
     "start_time": "2023-11-28T00:24:44.844225",
     "status": "completed"
    },
    "tags": []
   },
   "outputs": [
    {
     "name": "stdout",
     "output_type": "stream",
     "text": [
      "Train Data Size:  (10222, 224, 224, 3)\n",
      "Label Size:  (10222, 120)\n"
     ]
    }
   ],
   "source": [
    "def img_to_array_train(data_dir, labels_df, img_size = (224,224,3)):\n",
    "\n",
    "    img_ids = labels_df['id']\n",
    "    img_labels = labels_df['breed']\n",
    "    count = len(img_ids)\n",
    "\n",
    "    X = np.zeros([count, *img_size], dtype=np.uint8)\n",
    "    y = np.zeros([count, 1], dtype=np.uint8)\n",
    "\n",
    "    for i in range(count):\n",
    "        img_id = img_ids[i]\n",
    "        img_dir = os.path.join(data_dir, f\"{img_id}.jpg\")\n",
    "        img_array = load_img(img_dir, target_size = img_size)\n",
    "        X[i] = img_array\n",
    "        \n",
    "        img_breed = img_labels[i]\n",
    "        y[i] = breed_to_num[img_breed]\n",
    "    \n",
    "    y = to_categorical(y)\n",
    "    \n",
    "    return X, y\n",
    "\n",
    "# double check size\n",
    "img_size = (224,224,3)\n",
    "X, y = img_to_array_train(train_dir, labels_df, img_size)\n",
    "print('Train Data Size: ', X.shape)\n",
    "print('Label Size: ', y.shape)"
   ]
  },
  {
   "cell_type": "code",
   "execution_count": 9,
   "id": "93a12248",
   "metadata": {
    "execution": {
     "iopub.execute_input": "2023-11-28T00:26:43.930519Z",
     "iopub.status.busy": "2023-11-28T00:26:43.930129Z",
     "iopub.status.idle": "2023-11-28T00:27:16.831427Z",
     "shell.execute_reply": "2023-11-28T00:27:16.830268Z"
    },
    "papermill": {
     "duration": 32.911592,
     "end_time": "2023-11-28T00:27:16.834428",
     "exception": false,
     "start_time": "2023-11-28T00:26:43.922836",
     "status": "completed"
    },
    "tags": []
   },
   "outputs": [
    {
     "name": "stdout",
     "output_type": "stream",
     "text": [
      "Downloading data from https://storage.googleapis.com/tensorflow/keras-applications/inception_v3/inception_v3_weights_tf_dim_ordering_tf_kernels_notop.h5\n",
      "87910968/87910968 [==============================] - 4s 0us/step\n",
      "160/160 [==============================] - 18s 70ms/step\n"
     ]
    }
   ],
   "source": [
    "from keras.applications.inception_v3 import InceptionV3, preprocess_input\n",
    "input_layer = Input(img_size)\n",
    "preprocessor = Lambda(preprocess_input)(input_layer)\n",
    "base_model = InceptionV3(weights = 'imagenet', include_top = False, input_shape = img_size)(preprocessor)\n",
    "avg = GlobalAveragePooling2D()(base_model)\n",
    "features_model = Model(inputs = input_layer, outputs = avg)\n",
    "train_features = features_model.predict(X, batch_size = 64, verbose=1)"
   ]
  },
  {
   "cell_type": "code",
   "execution_count": 10,
   "id": "314602aa",
   "metadata": {
    "execution": {
     "iopub.execute_input": "2023-11-28T00:27:16.895884Z",
     "iopub.status.busy": "2023-11-28T00:27:16.895096Z",
     "iopub.status.idle": "2023-11-28T00:27:16.900032Z",
     "shell.execute_reply": "2023-11-28T00:27:16.899197Z"
    },
    "papermill": {
     "duration": 0.034988,
     "end_time": "2023-11-28T00:27:16.901998",
     "exception": false,
     "start_time": "2023-11-28T00:27:16.867010",
     "status": "completed"
    },
    "tags": []
   },
   "outputs": [],
   "source": [
    "from keras.callbacks import EarlyStopping\n",
    "EarlyStop_callback = keras.callbacks.EarlyStopping(monitor = 'val_loss', patience = 10, restore_best_weights = True)\n",
    "my_callback = [EarlyStop_callback]"
   ]
  },
  {
   "cell_type": "code",
   "execution_count": 11,
   "id": "6885f607",
   "metadata": {
    "execution": {
     "iopub.execute_input": "2023-11-28T00:27:16.949174Z",
     "iopub.status.busy": "2023-11-28T00:27:16.948895Z",
     "iopub.status.idle": "2023-11-28T00:27:21.873095Z",
     "shell.execute_reply": "2023-11-28T00:27:21.872078Z"
    },
    "papermill": {
     "duration": 4.950107,
     "end_time": "2023-11-28T00:27:21.875232",
     "exception": false,
     "start_time": "2023-11-28T00:27:16.925125",
     "status": "completed"
    },
    "tags": []
   },
   "outputs": [
    {
     "name": "stdout",
     "output_type": "stream",
     "text": [
      "Epoch 1/60\n",
      "72/72 [==============================] - 2s 6ms/step - loss: 2.8677 - accuracy: 0.3834 - val_loss: 0.6994 - val_accuracy: 0.7898\n",
      "Epoch 2/60\n",
      "72/72 [==============================] - 0s 3ms/step - loss: 1.0824 - accuracy: 0.7016 - val_loss: 0.5832 - val_accuracy: 0.8260\n",
      "Epoch 3/60\n",
      "72/72 [==============================] - 0s 3ms/step - loss: 0.8628 - accuracy: 0.7562 - val_loss: 0.5748 - val_accuracy: 0.8289\n",
      "Epoch 4/60\n",
      "72/72 [==============================] - 0s 4ms/step - loss: 0.7940 - accuracy: 0.7764 - val_loss: 0.5834 - val_accuracy: 0.8192\n",
      "Epoch 5/60\n",
      "72/72 [==============================] - 0s 4ms/step - loss: 0.7023 - accuracy: 0.7951 - val_loss: 0.6052 - val_accuracy: 0.8280\n",
      "Epoch 6/60\n",
      "72/72 [==============================] - 0s 3ms/step - loss: 0.6494 - accuracy: 0.8080 - val_loss: 0.6060 - val_accuracy: 0.8309\n",
      "Epoch 7/60\n",
      "72/72 [==============================] - 0s 3ms/step - loss: 0.5829 - accuracy: 0.8185 - val_loss: 0.6011 - val_accuracy: 0.8280\n",
      "Epoch 8/60\n",
      "72/72 [==============================] - 0s 4ms/step - loss: 0.5577 - accuracy: 0.8229 - val_loss: 0.6005 - val_accuracy: 0.8338\n",
      "Epoch 9/60\n",
      "72/72 [==============================] - 0s 4ms/step - loss: 0.5268 - accuracy: 0.8341 - val_loss: 0.6068 - val_accuracy: 0.8289\n",
      "Epoch 10/60\n",
      "72/72 [==============================] - 0s 3ms/step - loss: 0.4880 - accuracy: 0.8438 - val_loss: 0.6071 - val_accuracy: 0.8270\n",
      "Epoch 11/60\n",
      "72/72 [==============================] - 0s 4ms/step - loss: 0.4714 - accuracy: 0.8492 - val_loss: 0.6152 - val_accuracy: 0.8221\n",
      "Epoch 12/60\n",
      "72/72 [==============================] - 0s 4ms/step - loss: 0.4534 - accuracy: 0.8504 - val_loss: 0.6512 - val_accuracy: 0.8182\n",
      "Epoch 13/60\n",
      "72/72 [==============================] - 0s 4ms/step - loss: 0.4200 - accuracy: 0.8623 - val_loss: 0.6441 - val_accuracy: 0.8123\n"
     ]
    },
    {
     "data": {
      "text/plain": [
       "<keras.src.callbacks.History at 0x7b8a9c34e950>"
      ]
     },
     "execution_count": 11,
     "metadata": {},
     "output_type": "execute_result"
    }
   ],
   "source": [
    "finetune_model = keras.models.Sequential([InputLayer(train_features.shape[1:]),\n",
    "                                       Dropout(0.7),\n",
    "                                       Dense(n_breeds, activation='softmax')])\n",
    "finetune_model.compile(optimizer='adam', loss='categorical_crossentropy', metrics=['accuracy'])\n",
    "finetune_model.fit(train_features, y, batch_size = 128, epochs = 60, validation_split = 0.1, callbacks = my_callback)"
   ]
  },
  {
   "cell_type": "code",
   "execution_count": 12,
   "id": "91ead903",
   "metadata": {
    "execution": {
     "iopub.execute_input": "2023-11-28T00:27:21.938698Z",
     "iopub.status.busy": "2023-11-28T00:27:21.938387Z",
     "iopub.status.idle": "2023-11-28T00:29:13.582089Z",
     "shell.execute_reply": "2023-11-28T00:29:13.581109Z"
    },
    "papermill": {
     "duration": 111.707502,
     "end_time": "2023-11-28T00:29:13.614271",
     "exception": false,
     "start_time": "2023-11-28T00:27:21.906769",
     "status": "completed"
    },
    "tags": []
   },
   "outputs": [
    {
     "name": "stdout",
     "output_type": "stream",
     "text": [
      "Test Data Size:  (10357, 224, 224, 3)\n"
     ]
    }
   ],
   "source": [
    "def img_to_array_test(data_dir, labels_dataframe, img_size = (224,224,3)):\n",
    "    img_ids = labels_dataframe['id']\n",
    "    count = len(img_ids)\n",
    "    \n",
    "    X = np.zeros([count, img_size[0], img_size[1], 3], dtype=np.uint8)\n",
    "    \n",
    "    for i in range(count):\n",
    "        img_id = img_ids[i]\n",
    "        img_dir = os.path.join(data_dir, f\"{img_id}.jpg\")\n",
    "        img_array = load_img(img_dir, target_size=img_size)\n",
    "        X[i] = img_array\n",
    "        \n",
    "    return X\n",
    "\n",
    "test_set = img_to_array_test(test_dir, sample_df, img_size)\n",
    "print('Test Data Size: ', test_set.shape)"
   ]
  },
  {
   "cell_type": "code",
   "execution_count": 13,
   "id": "eba101d1",
   "metadata": {
    "execution": {
     "iopub.execute_input": "2023-11-28T00:29:13.675553Z",
     "iopub.status.busy": "2023-11-28T00:29:13.674696Z",
     "iopub.status.idle": "2023-11-28T00:29:52.416309Z",
     "shell.execute_reply": "2023-11-28T00:29:52.415118Z"
    },
    "papermill": {
     "duration": 38.775019,
     "end_time": "2023-11-28T00:29:52.418932",
     "exception": false,
     "start_time": "2023-11-28T00:29:13.643913",
     "status": "completed"
    },
    "tags": []
   },
   "outputs": [
    {
     "name": "stdout",
     "output_type": "stream",
     "text": [
      "162/162 [==============================] - 11s 71ms/step\n"
     ]
    }
   ],
   "source": [
    "test_features = features_model.predict(test_set, batch_size = 64, verbose = 1)"
   ]
  },
  {
   "cell_type": "code",
   "execution_count": 14,
   "id": "140da8a8",
   "metadata": {
    "execution": {
     "iopub.execute_input": "2023-11-28T00:29:52.559654Z",
     "iopub.status.busy": "2023-11-28T00:29:52.559315Z",
     "iopub.status.idle": "2023-11-28T00:29:53.108946Z",
     "shell.execute_reply": "2023-11-28T00:29:53.108192Z"
    },
    "papermill": {
     "duration": 0.597076,
     "end_time": "2023-11-28T00:29:53.111012",
     "exception": false,
     "start_time": "2023-11-28T00:29:52.513936",
     "status": "completed"
    },
    "tags": []
   },
   "outputs": [
    {
     "name": "stdout",
     "output_type": "stream",
     "text": [
      "81/81 [==============================] - 0s 2ms/step\n"
     ]
    }
   ],
   "source": [
    "predictions = finetune_model.predict(test_features, batch_size=128)"
   ]
  },
  {
   "cell_type": "code",
   "execution_count": 15,
   "id": "be51adc5",
   "metadata": {
    "execution": {
     "iopub.execute_input": "2023-11-28T00:29:53.199062Z",
     "iopub.status.busy": "2023-11-28T00:29:53.198064Z",
     "iopub.status.idle": "2023-11-28T00:29:54.974037Z",
     "shell.execute_reply": "2023-11-28T00:29:54.973035Z"
    },
    "papermill": {
     "duration": 1.822123,
     "end_time": "2023-11-28T00:29:54.976487",
     "exception": false,
     "start_time": "2023-11-28T00:29:53.154364",
     "status": "completed"
    },
    "tags": []
   },
   "outputs": [],
   "source": [
    "for b in dog_breeds:\n",
    "    sample_df[b] = predictions[:, breed_to_num[b]]\n",
    "    \n",
    "sample_df.to_csv('pred.csv', index=None)"
   ]
  },
  {
   "cell_type": "code",
   "execution_count": 16,
   "id": "f86b7bf4",
   "metadata": {
    "execution": {
     "iopub.execute_input": "2023-11-28T00:29:55.063793Z",
     "iopub.status.busy": "2023-11-28T00:29:55.063477Z",
     "iopub.status.idle": "2023-11-28T00:29:55.091033Z",
     "shell.execute_reply": "2023-11-28T00:29:55.090071Z"
    },
    "papermill": {
     "duration": 0.073244,
     "end_time": "2023-11-28T00:29:55.093016",
     "exception": false,
     "start_time": "2023-11-28T00:29:55.019772",
     "status": "completed"
    },
    "tags": []
   },
   "outputs": [
    {
     "data": {
      "text/html": [
       "<div>\n",
       "<style scoped>\n",
       "    .dataframe tbody tr th:only-of-type {\n",
       "        vertical-align: middle;\n",
       "    }\n",
       "\n",
       "    .dataframe tbody tr th {\n",
       "        vertical-align: top;\n",
       "    }\n",
       "\n",
       "    .dataframe thead th {\n",
       "        text-align: right;\n",
       "    }\n",
       "</style>\n",
       "<table border=\"1\" class=\"dataframe\">\n",
       "  <thead>\n",
       "    <tr style=\"text-align: right;\">\n",
       "      <th></th>\n",
       "      <th>id</th>\n",
       "      <th>affenpinscher</th>\n",
       "      <th>afghan_hound</th>\n",
       "      <th>african_hunting_dog</th>\n",
       "      <th>airedale</th>\n",
       "      <th>american_staffordshire_terrier</th>\n",
       "      <th>appenzeller</th>\n",
       "      <th>australian_terrier</th>\n",
       "      <th>basenji</th>\n",
       "      <th>basset</th>\n",
       "      <th>...</th>\n",
       "      <th>toy_poodle</th>\n",
       "      <th>toy_terrier</th>\n",
       "      <th>vizsla</th>\n",
       "      <th>walker_hound</th>\n",
       "      <th>weimaraner</th>\n",
       "      <th>welsh_springer_spaniel</th>\n",
       "      <th>west_highland_white_terrier</th>\n",
       "      <th>whippet</th>\n",
       "      <th>wire-haired_fox_terrier</th>\n",
       "      <th>yorkshire_terrier</th>\n",
       "    </tr>\n",
       "  </thead>\n",
       "  <tbody>\n",
       "    <tr>\n",
       "      <th>0</th>\n",
       "      <td>000621fb3cbb32d8935728e48679680e</td>\n",
       "      <td>0.000015</td>\n",
       "      <td>0.000026</td>\n",
       "      <td>0.000012</td>\n",
       "      <td>5.039916e-06</td>\n",
       "      <td>0.000005</td>\n",
       "      <td>6.295465e-07</td>\n",
       "      <td>6.195021e-07</td>\n",
       "      <td>0.000007</td>\n",
       "      <td>0.000012</td>\n",
       "      <td>...</td>\n",
       "      <td>0.000003</td>\n",
       "      <td>1.173998e-05</td>\n",
       "      <td>0.000020</td>\n",
       "      <td>0.000004</td>\n",
       "      <td>0.000004</td>\n",
       "      <td>1.479614e-05</td>\n",
       "      <td>5.483101e-07</td>\n",
       "      <td>0.000012</td>\n",
       "      <td>7.783317e-06</td>\n",
       "      <td>0.000012</td>\n",
       "    </tr>\n",
       "    <tr>\n",
       "      <th>1</th>\n",
       "      <td>00102ee9d8eb90812350685311fe5890</td>\n",
       "      <td>0.000001</td>\n",
       "      <td>0.000001</td>\n",
       "      <td>0.000006</td>\n",
       "      <td>8.657503e-07</td>\n",
       "      <td>0.000003</td>\n",
       "      <td>1.456463e-06</td>\n",
       "      <td>1.391407e-06</td>\n",
       "      <td>0.000002</td>\n",
       "      <td>0.000002</td>\n",
       "      <td>...</td>\n",
       "      <td>0.000003</td>\n",
       "      <td>8.761674e-08</td>\n",
       "      <td>0.000007</td>\n",
       "      <td>0.000003</td>\n",
       "      <td>0.000002</td>\n",
       "      <td>2.605378e-07</td>\n",
       "      <td>1.747578e-05</td>\n",
       "      <td>0.000001</td>\n",
       "      <td>3.429163e-07</td>\n",
       "      <td>0.000002</td>\n",
       "    </tr>\n",
       "    <tr>\n",
       "      <th>2</th>\n",
       "      <td>0012a730dfa437f5f3613fb75efcd4ce</td>\n",
       "      <td>0.000002</td>\n",
       "      <td>0.297687</td>\n",
       "      <td>0.000128</td>\n",
       "      <td>1.716373e-05</td>\n",
       "      <td>0.000002</td>\n",
       "      <td>6.614669e-07</td>\n",
       "      <td>1.661628e-06</td>\n",
       "      <td>0.000004</td>\n",
       "      <td>0.000019</td>\n",
       "      <td>...</td>\n",
       "      <td>0.000004</td>\n",
       "      <td>2.863637e-05</td>\n",
       "      <td>0.000022</td>\n",
       "      <td>0.000079</td>\n",
       "      <td>0.000072</td>\n",
       "      <td>6.118159e-05</td>\n",
       "      <td>6.254219e-06</td>\n",
       "      <td>0.005621</td>\n",
       "      <td>1.432452e-04</td>\n",
       "      <td>0.000012</td>\n",
       "    </tr>\n",
       "    <tr>\n",
       "      <th>3</th>\n",
       "      <td>001510bc8570bbeee98c8d80c8a95ec1</td>\n",
       "      <td>0.005424</td>\n",
       "      <td>0.000282</td>\n",
       "      <td>0.000028</td>\n",
       "      <td>1.601197e-06</td>\n",
       "      <td>0.000043</td>\n",
       "      <td>8.242835e-07</td>\n",
       "      <td>6.876427e-06</td>\n",
       "      <td>0.000037</td>\n",
       "      <td>0.000040</td>\n",
       "      <td>...</td>\n",
       "      <td>0.000001</td>\n",
       "      <td>4.577805e-06</td>\n",
       "      <td>0.000020</td>\n",
       "      <td>0.000206</td>\n",
       "      <td>0.000006</td>\n",
       "      <td>1.075154e-07</td>\n",
       "      <td>2.450480e-07</td>\n",
       "      <td>0.000196</td>\n",
       "      <td>8.684729e-08</td>\n",
       "      <td>0.000016</td>\n",
       "    </tr>\n",
       "    <tr>\n",
       "      <th>4</th>\n",
       "      <td>001a5f3114548acdefa3d4da05474c2e</td>\n",
       "      <td>0.010577</td>\n",
       "      <td>0.000183</td>\n",
       "      <td>0.000021</td>\n",
       "      <td>1.988567e-06</td>\n",
       "      <td>0.000005</td>\n",
       "      <td>1.612073e-06</td>\n",
       "      <td>1.506424e-05</td>\n",
       "      <td>0.000008</td>\n",
       "      <td>0.000196</td>\n",
       "      <td>...</td>\n",
       "      <td>0.000027</td>\n",
       "      <td>1.018537e-06</td>\n",
       "      <td>0.000118</td>\n",
       "      <td>0.000038</td>\n",
       "      <td>0.000021</td>\n",
       "      <td>1.245101e-06</td>\n",
       "      <td>1.305818e-05</td>\n",
       "      <td>0.000027</td>\n",
       "      <td>1.024395e-06</td>\n",
       "      <td>0.000122</td>\n",
       "    </tr>\n",
       "  </tbody>\n",
       "</table>\n",
       "<p>5 rows × 121 columns</p>\n",
       "</div>"
      ],
      "text/plain": [
       "                                 id  affenpinscher  afghan_hound  \\\n",
       "0  000621fb3cbb32d8935728e48679680e       0.000015      0.000026   \n",
       "1  00102ee9d8eb90812350685311fe5890       0.000001      0.000001   \n",
       "2  0012a730dfa437f5f3613fb75efcd4ce       0.000002      0.297687   \n",
       "3  001510bc8570bbeee98c8d80c8a95ec1       0.005424      0.000282   \n",
       "4  001a5f3114548acdefa3d4da05474c2e       0.010577      0.000183   \n",
       "\n",
       "   african_hunting_dog      airedale  american_staffordshire_terrier  \\\n",
       "0             0.000012  5.039916e-06                        0.000005   \n",
       "1             0.000006  8.657503e-07                        0.000003   \n",
       "2             0.000128  1.716373e-05                        0.000002   \n",
       "3             0.000028  1.601197e-06                        0.000043   \n",
       "4             0.000021  1.988567e-06                        0.000005   \n",
       "\n",
       "    appenzeller  australian_terrier   basenji    basset  ...  toy_poodle  \\\n",
       "0  6.295465e-07        6.195021e-07  0.000007  0.000012  ...    0.000003   \n",
       "1  1.456463e-06        1.391407e-06  0.000002  0.000002  ...    0.000003   \n",
       "2  6.614669e-07        1.661628e-06  0.000004  0.000019  ...    0.000004   \n",
       "3  8.242835e-07        6.876427e-06  0.000037  0.000040  ...    0.000001   \n",
       "4  1.612073e-06        1.506424e-05  0.000008  0.000196  ...    0.000027   \n",
       "\n",
       "    toy_terrier    vizsla  walker_hound  weimaraner  welsh_springer_spaniel  \\\n",
       "0  1.173998e-05  0.000020      0.000004    0.000004            1.479614e-05   \n",
       "1  8.761674e-08  0.000007      0.000003    0.000002            2.605378e-07   \n",
       "2  2.863637e-05  0.000022      0.000079    0.000072            6.118159e-05   \n",
       "3  4.577805e-06  0.000020      0.000206    0.000006            1.075154e-07   \n",
       "4  1.018537e-06  0.000118      0.000038    0.000021            1.245101e-06   \n",
       "\n",
       "   west_highland_white_terrier   whippet  wire-haired_fox_terrier  \\\n",
       "0                 5.483101e-07  0.000012             7.783317e-06   \n",
       "1                 1.747578e-05  0.000001             3.429163e-07   \n",
       "2                 6.254219e-06  0.005621             1.432452e-04   \n",
       "3                 2.450480e-07  0.000196             8.684729e-08   \n",
       "4                 1.305818e-05  0.000027             1.024395e-06   \n",
       "\n",
       "   yorkshire_terrier  \n",
       "0           0.000012  \n",
       "1           0.000002  \n",
       "2           0.000012  \n",
       "3           0.000016  \n",
       "4           0.000122  \n",
       "\n",
       "[5 rows x 121 columns]"
      ]
     },
     "execution_count": 16,
     "metadata": {},
     "output_type": "execute_result"
    }
   ],
   "source": [
    "sample_df.head()"
   ]
  }
 ],
 "metadata": {
  "kaggle": {
   "accelerator": "gpu",
   "dataSources": [
    {
     "databundleVersionId": 6683419,
     "sourceId": 61758,
     "sourceType": "competition"
    }
   ],
   "dockerImageVersionId": 30579,
   "isGpuEnabled": true,
   "isInternetEnabled": true,
   "language": "python",
   "sourceType": "notebook"
  },
  "kernelspec": {
   "display_name": "Python 3",
   "language": "python",
   "name": "python3"
  },
  "language_info": {
   "codemirror_mode": {
    "name": "ipython",
    "version": 3
   },
   "file_extension": ".py",
   "mimetype": "text/x-python",
   "name": "python",
   "nbconvert_exporter": "python",
   "pygments_lexer": "ipython3",
   "version": "3.10.12"
  },
  "papermill": {
   "default_parameters": {},
   "duration": 329.596909,
   "end_time": "2023-11-28T00:29:58.205442",
   "environment_variables": {},
   "exception": null,
   "input_path": "__notebook__.ipynb",
   "output_path": "__notebook__.ipynb",
   "parameters": {},
   "start_time": "2023-11-28T00:24:28.608533",
   "version": "2.4.0"
  }
 },
 "nbformat": 4,
 "nbformat_minor": 5
}
